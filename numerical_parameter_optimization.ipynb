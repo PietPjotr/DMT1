{
  "cells": [
    {
      "cell_type": "markdown",
      "metadata": {},
      "source": [
        "# Hyperparameter Optimization\n",
        "\n",
        "Tune Ridge alphas and RNN architecture for numerical prediction."
      ]
    },
    {
      "cell_type": "code",
      "execution_count": 2,
      "metadata": {},
      "outputs": [],
      "source": [
        "import pandas as pd\n",
        "import numpy as np\n",
        "import matplotlib.pyplot as plt\n",
        "from sklearn.model_selection import train_test_split\n",
        "from sklearn.metrics import mean_squared_error\n",
        "from sklearn.preprocessing import StandardScaler\n",
        "from sklearn.linear_model import Ridge\n",
        "from sklearn.model_selection import GridSearchCV\n",
        "from sklearn.pipeline import Pipeline\n",
        "from tensorflow.keras.models import Sequential\n",
        "from tensorflow.keras.layers import SimpleRNN, Dense, Dropout\n",
        "%matplotlib inline"
      ]
    },
    {
      "cell_type": "code",
      "execution_count": 3,
      "metadata": {},
      "outputs": [],
      "source": [
        "# Feature sets\n",
        "lin_feats = ['activity', 'appCat.communication', 'appCat.utilities', 'call', 'circumplex.valence', 'mood', 'sms', 'screen_log', 'activity_log', 'call_sms_ratio']\n",
        "rnn_feats = ['appCat.communication', 'screen', 'appCat.builtin', 'appCat.finance', 'appCat.unknown', 'mood']"
      ]
    },
    {
      "cell_type": "code",
      "execution_count": 4,
      "metadata": {},
      "outputs": [],
      "source": [
        "# Load data\n",
        "df = pd.read_pickle('df_feat.pkl')\n",
        "X_lin = df[lin_feats]\n",
        "X_rnn = df[rnn_feats]\n",
        "y = df['nextday']\n",
        "# Train/test split for both\n",
        "X_train_lin, X_test_lin, y_train, y_test = train_test_split(X_lin, y, test_size=0.2, random_state=42)\n",
        "X_train_rnn, X_test_rnn, _, _ = train_test_split(X_rnn, y, test_size=0.2, random_state=42)"
      ]
    },
    {
      "cell_type": "markdown",
      "metadata": {},
      "source": [
        "## Ridge Regression Tuning\n",
        "Use GridSearchCV to find the best alpha."
      ]
    },
    {
      "cell_type": "code",
      "execution_count": 5,
      "metadata": {},
      "outputs": [
        {
          "name": "stdout",
          "output_type": "stream",
          "text": [
            "Best alpha: 10\n",
            "CV MSE: 0.42823247842190293\n",
            "Test MSE: 0.511728507978285\n"
          ]
        }
      ],
      "source": [
        "ridge_pipe = Pipeline([('scaler', StandardScaler()), ('ridge', Ridge())])\n",
        "param_grid = {'ridge__alpha': [0.01, 0.1, 1, 10, 100]}\n",
        "grid = GridSearchCV(ridge_pipe, param_grid, cv=5, scoring='neg_mean_squared_error', n_jobs=-1)\n",
        "grid.fit(X_train_lin, y_train)\n",
        "print('Best alpha:', grid.best_params_['ridge__alpha'])\n",
        "print('CV MSE:', -grid.best_score_)\n",
        "pred = grid.predict(X_test_lin)\n",
        "print('Test MSE:', mean_squared_error(y_test, pred))"
      ]
    },
    {
      "cell_type": "markdown",
      "metadata": {},
      "source": [
        "## RNN Architecture Tuning\n",
        "Manual grid search over number of units and dropout."
      ]
    },
    {
      "cell_type": "code",
      "execution_count": 6,
      "metadata": {},
      "outputs": [
        {
          "data": {
            "text/html": [
              "<div>\n",
              "<style scoped>\n",
              "    .dataframe tbody tr th:only-of-type {\n",
              "        vertical-align: middle;\n",
              "    }\n",
              "\n",
              "    .dataframe tbody tr th {\n",
              "        vertical-align: top;\n",
              "    }\n",
              "\n",
              "    .dataframe thead th {\n",
              "        text-align: right;\n",
              "    }\n",
              "</style>\n",
              "<table border=\"1\" class=\"dataframe\">\n",
              "  <thead>\n",
              "    <tr style=\"text-align: right;\">\n",
              "      <th></th>\n",
              "      <th>units</th>\n",
              "      <th>dropout</th>\n",
              "      <th>mse</th>\n",
              "    </tr>\n",
              "  </thead>\n",
              "  <tbody>\n",
              "    <tr>\n",
              "      <th>6</th>\n",
              "      <td>100</td>\n",
              "      <td>0.1</td>\n",
              "      <td>0.775657</td>\n",
              "    </tr>\n",
              "    <tr>\n",
              "      <th>8</th>\n",
              "      <td>100</td>\n",
              "      <td>0.3</td>\n",
              "      <td>0.776918</td>\n",
              "    </tr>\n",
              "    <tr>\n",
              "      <th>7</th>\n",
              "      <td>100</td>\n",
              "      <td>0.2</td>\n",
              "      <td>0.791501</td>\n",
              "    </tr>\n",
              "    <tr>\n",
              "      <th>4</th>\n",
              "      <td>50</td>\n",
              "      <td>0.2</td>\n",
              "      <td>0.829818</td>\n",
              "    </tr>\n",
              "    <tr>\n",
              "      <th>5</th>\n",
              "      <td>50</td>\n",
              "      <td>0.3</td>\n",
              "      <td>0.921896</td>\n",
              "    </tr>\n",
              "  </tbody>\n",
              "</table>\n",
              "</div>"
            ],
            "text/plain": [
              "   units  dropout       mse\n",
              "6    100      0.1  0.775657\n",
              "8    100      0.3  0.776918\n",
              "7    100      0.2  0.791501\n",
              "4     50      0.2  0.829818\n",
              "5     50      0.3  0.921896"
            ]
          },
          "metadata": {},
          "output_type": "display_data"
        }
      ],
      "source": [
        "# Prepare RNN data\n",
        "X_tr = X_train_rnn.values.reshape(len(X_train_rnn), 1, len(rnn_feats))\n",
        "X_te = X_test_rnn.values.reshape(len(X_test_rnn), 1, len(rnn_feats))\n",
        "results = []\n",
        "for units in [10, 50, 100]:\n",
        "    for dr in [0.1, 0.2, 0.3]:\n",
        "        model = Sequential()\n",
        "        model.add(SimpleRNN(units, input_shape=(1, len(rnn_feats)), activation='tanh'))\n",
        "        model.add(Dropout(dr))\n",
        "        model.add(Dense(1))\n",
        "        model.compile(optimizer='adam', loss='mse')\n",
        "        model.fit(X_tr, y_train, epochs=20, batch_size=32, verbose=0)\n",
        "        mse = model.evaluate(X_te, y_test, verbose=0)\n",
        "        results.append({'units': units, 'dropout': dr, 'mse': mse})\n",
        "results_df = pd.DataFrame(results)\n",
        "display(results_df.sort_values('mse').head())"
      ]
    },
    {
      "cell_type": "code",
      "execution_count": 7,
      "id": "f89f56da",
      "metadata": {},
      "outputs": [
        {
          "data": {
            "image/png": "[encoded data removed]",
            "text/plain": [
              "<Figure size 600x400 with 2 Axes>"
            ]
          },
          "metadata": {},
          "output_type": "display_data"
        }
      ],
      "source": [
        "import seaborn as sns\n",
        "\n",
        "# Pivot MSEs into a matrix\n",
        "heat = results_df.pivot(index='units', columns='dropout', values='mse')\n",
        "\n",
        "# Plot\n",
        "plt.figure(figsize=(6,4))\n",
        "sns.heatmap(heat, annot=True, fmt='.3f', cmap='viridis')\n",
        "plt.xlabel('Dropout rate')\n",
        "plt.ylabel('RNN units')\n",
        "plt.title('Validation MSE')\n",
        "plt.show()"
      ]
    }
  ],
  "metadata": {
    "kernelspec": {
      "display_name": "newest_env",
      "language": "python",
      "name": "python3"
    },
    "language_info": {
      "codemirror_mode": {
        "name": "ipython",
        "version": 3
      },
      "file_extension": ".py",
      "mimetype": "text/x-python",
      "name": "python",
      "nbconvert_exporter": "python",
      "pygments_lexer": "ipython3",
      "version": "3.10.13"
    }
  },
  "nbformat": 4,
  "nbformat_minor": 5
}
